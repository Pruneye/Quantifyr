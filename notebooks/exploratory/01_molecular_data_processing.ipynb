{
 "cells": [
  {
   "cell_type": "raw",
   "metadata": {
    "vscode": {
     "languageId": "raw"
    }
   },
   "source": [
    "# Molecular Data Processing - Enhanced with Dual Theme Support\n",
    "\n",
    "This notebook demonstrates the NEW **enhanced Stage 1: Data Processing** for Quantifyr, featuring:\n",
    "\n",
    "1. **SMILES Parsing** with RDKit and element symbols\n",
    "2. **Smart Feature Extraction** with human-readable output\n",
    "3. **Graph Construction** for GNNs\n",
    "4. **Interactive 2D/3D Visualizations** with dual theme support\n",
    "5. **Smart Property Analysis** with perfect zoom and meaningful titles\n",
    "\n",
    "## NEW Features ✨\n",
    "- **Dual theme system** - Dark/light mode toggle for all visualizations\n",
    "- **Smart text contrast** - Readable element symbols on all atom colors\n",
    "- **Meaningful titles** using molecule names instead of generic labels\n",
    "- **Perfect 3D zoom** automatically calculated for each molecule\n",
    "- **Interactive 2D plots** instead of static images\n",
    "- **Enhanced readability** with larger atoms and clean controls\n",
    "\n",
    "Let's start by importing our enhanced modules!\n"
   ]
  },
  {
   "cell_type": "code",
   "execution_count": null,
   "metadata": {},
   "outputs": [],
   "source": [
    "# Setup and imports\n",
    "import sys\n",
    "import os\n",
    "\n",
    "# Add the project root to the Python path\n",
    "# The notebook is in notebooks/exploratory, so we need to go up two levels to reach the project root\n",
    "project_root = os.path.abspath(os.path.join(os.path.dirname(\"__file__\"), \"../..\"))\n",
    "sys.path.append(project_root)\n",
    "\n",
    "import numpy as np\n",
    "import pandas as pd\n",
    "import matplotlib.pyplot as plt\n",
    "import plotly.graph_objects as go\n",
    "import plotly.express as px\n",
    "from rdkit import Chem\n",
    "from rdkit.Chem import Draw\n",
    "import warnings\n",
    "\n",
    "warnings.filterwarnings(\"ignore\")\n",
    "\n",
    "# Import our Quantifyr modules\n",
    "from src.data_utils.data_utils import (\n",
    "    parse_smiles,\n",
    "    extract_atom_features,\n",
    "    extract_bond_features,\n",
    "    mol_to_graph,\n",
    "    compute_molecular_descriptors,\n",
    "    load_molecule_dataset,\n",
    "    create_molecular_dataframe,\n",
    "    MoleculeConfig,\n",
    ")\n",
    "\n",
    "from src.viz.viz import (\n",
    "    # Theme control functions (NEW!)\n",
    "    set_theme,\n",
    "    get_current_theme,\n",
    "    # Enhanced visualization functions\n",
    "    draw_molecule_2d,  # Now interactive plots with theme support!\n",
    "    plot_molecular_properties,\n",
    "    plot_property_distribution,\n",
    "    plot_molecular_network,  # Now supports meaningful titles\n",
    "    create_3d_conformer_plot,  # Now with perfect zoom and smart titles\n",
    "    # Note: create_molecular_dashboard removed for better flexibility\n",
    "    # Use individual plotting functions for full control\n",
    ")\n",
    "\n",
    "print(\"✅ Successfully imported Quantifyr modules!\")\n",
    "print(\"🧪 Ready for molecular data processing experiments\")"
   ]
  },
  {
   "cell_type": "raw",
   "metadata": {
    "vscode": {
     "languageId": "raw"
    }
   },
   "source": [
    "## 🌓 NEW: Theme Control System\n",
    "\n",
    "Quantifyr now supports dual themes! Choose between dark and light modes for all visualizations. The theme affects backgrounds, text colors, and styling across all plots.\n"
   ]
  },
  {
   "cell_type": "code",
   "execution_count": null,
   "metadata": {},
   "outputs": [],
   "source": [
    "# Demonstrate theme control\n",
    "print(\"🌓 Theme Control System:\")\n",
    "print(\"Choose your visualization theme preference!\\n\")\n",
    "\n",
    "# Show current theme\n",
    "current_theme = get_current_theme()\n",
    "print(f\"Current theme: {current_theme}\")\n",
    "\n",
    "# Set to dark theme (default)\n",
    "set_theme(\"dark\")\n",
    "print(\"\\n✅ Set to DARK theme - midnight background for coding sessions\")\n",
    "print(\"   - Background: #0d1117 (GitHub dark)\")\n",
    "print(\"   - Accent: #00acc1 (cyan)\")\n",
    "print(\"   - Text: #c9d1d9 (light gray)\")\n",
    "\n",
    "# You can switch to light theme for presentations\n",
    "# set_theme('light')\n",
    "print(\"\\n💡 To switch to LIGHT theme for presentations, run:\")\n",
    "print(\"   set_theme('light')\")\n",
    "print(\"   - Background: #ffffff (white)\")\n",
    "print(\"   - Accent: #0969da (blue)\")\n",
    "print(\"   - Text: #24292f (dark gray)\")\n",
    "\n",
    "print(\"\\n🎨 All subsequent plots will automatically use your chosen theme!\")\n",
    "print(\"   Smart text contrast ensures element symbols are readable on all atom colors\")"
   ]
  },
  {
   "cell_type": "raw",
   "metadata": {
    "vscode": {
     "languageId": "raw"
    }
   },
   "source": [
    "## 1. SMILES Parsing & Molecule Creation\n",
    "\n",
    "Let's start with parsing SMILES strings into RDKit molecule objects. We'll test with a variety of interesting molecules and showcase the enhanced error handling.\n"
   ]
  },
  {
   "cell_type": "code",
   "execution_count": null,
   "metadata": {},
   "outputs": [],
   "source": [
    "# Define a diverse set of molecules for testing\n",
    "sample_molecules = {\n",
    "    \"ethanol\": \"CCO\",\n",
    "    \"benzene\": \"c1ccccc1\",\n",
    "    \"caffeine\": \"CN1C=NC2=C1C(=O)N(C(=O)N2C)C\",\n",
    "    \"aspirin\": \"CC(=O)OC1=CC=CC=C1C(=O)O\",\n",
    "    \"water\": \"O\",\n",
    "    \"methane\": \"C\",\n",
    "    \"glucose\": \"C([C@@H]1[C@H]([C@@H]([C@H]([C@H](O1)O)O)O)O)O\",\n",
    "    \"dopamine\": \"NCCc1ccc(O)c(O)c1\",\n",
    "    \"invalid\": \"this_is_not_a_smiles\",  # Test invalid SMILES\n",
    "}\n",
    "\n",
    "print(\"🧪 Testing SMILES parsing with diverse molecules:\\n\")\n",
    "\n",
    "parsed_molecules = {}\n",
    "for name, smiles in sample_molecules.items():\n",
    "    mol = parse_smiles(smiles)\n",
    "    parsed_molecules[name] = mol\n",
    "\n",
    "    if mol is not None:\n",
    "        print(\n",
    "            f\"✅ {name:12} | {smiles:20} → {mol.GetNumAtoms():2d} atoms, {mol.GetNumBonds():2d} bonds\"\n",
    "        )\n",
    "    else:\n",
    "        print(f\"❌ {name:12} | {smiles:20} → FAILED TO PARSE\")\n",
    "\n",
    "print(\n",
    "    f\"\\n📊 Successfully parsed: {sum(1 for mol in parsed_molecules.values() if mol is not None)}/{len(sample_molecules)} molecules\"\n",
    ")"
   ]
  },
  {
   "cell_type": "raw",
   "metadata": {
    "vscode": {
     "languageId": "raw"
    }
   },
   "source": [
    "## 2. Feature Extraction\n",
    "\n",
    "Now let's extract atomic and molecular features that can be used for machine learning models.\n"
   ]
  },
  {
   "cell_type": "code",
   "execution_count": null,
   "metadata": {},
   "outputs": [],
   "source": [
    "# Extract features for a few interesting molecules with element symbols\n",
    "from src.data_utils.data_utils import get_element_symbol\n",
    "\n",
    "test_molecules = [\"ethanol\", \"benzene\", \"caffeine\"]\n",
    "\n",
    "print(\"🔬 Atomic Feature Extraction with Element Symbols:\\n\")\n",
    "print(\"Features: [Atomic#, Degree, Charge, Hybridization, Aromatic, H_count]\")\n",
    "print(\"-\" * 70)\n",
    "\n",
    "for name in test_molecules:\n",
    "    mol = parsed_molecules[name]\n",
    "    if mol is not None:\n",
    "        atom_features = extract_atom_features(mol)\n",
    "        bond_features = extract_bond_features(mol)\n",
    "\n",
    "        print(f\"\\n{name.upper()}:\")\n",
    "        print(f\"  Atomic features shape: {atom_features.shape}\")\n",
    "        print(f\"  Bond features shape:   {bond_features.shape}\")\n",
    "\n",
    "        # Show first few atomic features with element symbols\n",
    "        print(f\"  First 3 atoms with element symbols:\")\n",
    "        for i in range(min(3, len(atom_features))):\n",
    "            features = atom_features[i]\n",
    "            atomic_num = int(features[0])\n",
    "            element_symbol = get_element_symbol(atomic_num)\n",
    "            print(f\"    Atom {i+1:2d} ({element_symbol:>2s}): {features}\")\n",
    "\n",
    "        # Explain the first atom's features in detail\n",
    "        if len(atom_features) > 0:\n",
    "            first_atom = atom_features[0]\n",
    "            element = get_element_symbol(int(first_atom[0]))\n",
    "            print(f\"  🧪 Feature explanation for first atom ({element}):\")\n",
    "            print(f\"     - Element: {element} (atomic# {int(first_atom[0])})\")\n",
    "            print(f\"     - Degree: {int(first_atom[1])} bonds\")\n",
    "            print(f\"     - Charge: {int(first_atom[2])}\")\n",
    "            print(\n",
    "                f\"     - Hybridization: SP{int(first_atom[3]) if first_atom[3] <= 3 else '?'}\"\n",
    "            )\n",
    "            print(f\"     - Aromatic: {'Yes' if first_atom[4] else 'No'}\")\n",
    "            print(f\"     - H atoms: {int(first_atom[5])}\")\n",
    "\n",
    "print(\"\\n\" + \"=\" * 70)\n",
    "print(\"✨ Now you can see actual element symbols (C, N, O) instead of just numbers!\")"
   ]
  },
  {
   "cell_type": "code",
   "execution_count": null,
   "metadata": {},
   "outputs": [],
   "source": [
    "# Compute molecular descriptors for property prediction\n",
    "print(\"📊 Molecular Descriptors for Property Prediction:\\n\")\n",
    "\n",
    "descriptor_data = []\n",
    "for name, mol in parsed_molecules.items():\n",
    "    if mol is not None:\n",
    "        descriptors = compute_molecular_descriptors(mol)\n",
    "        descriptors[\"name\"] = name\n",
    "        descriptors[\"smiles\"] = sample_molecules[name]\n",
    "        descriptor_data.append(descriptors)\n",
    "\n",
    "# Create DataFrame\n",
    "df_descriptors = pd.DataFrame(descriptor_data)\n",
    "print(f\"Computed descriptors for {len(df_descriptors)} molecules\")\n",
    "print(\"\\nDescriptor columns:\", list(df_descriptors.columns))\n",
    "print(\"\\nSample data:\")\n",
    "print(df_descriptors[[\"name\", \"molecular_weight\", \"logp\", \"tpsa\", \"num_rings\"]].head())"
   ]
  },
  {
   "cell_type": "raw",
   "metadata": {
    "vscode": {
     "languageId": "raw"
    }
   },
   "source": [
    "## 3. Graph Construction for GNN Models\n",
    "\n",
    "Convert molecules to PyTorch Geometric Data objects for graph neural networks.\n"
   ]
  },
  {
   "cell_type": "code",
   "execution_count": null,
   "metadata": {},
   "outputs": [],
   "source": [
    "# Convert molecules to graph representations\n",
    "print(\"🕸️  Converting Molecules to Graph Objects:\\n\")\n",
    "\n",
    "graph_data = []\n",
    "for name in [\"ethanol\", \"benzene\", \"caffeine\"]:\n",
    "    mol = parsed_molecules[name]\n",
    "    if mol is not None:\n",
    "        graph = mol_to_graph(mol, include_edge_features=True)\n",
    "        graph_data.append(graph)\n",
    "\n",
    "        print(f\"{name.upper()}:\")\n",
    "        print(f\"  Node features (x):     {graph.x.shape}\")\n",
    "        print(f\"  Edge indices:          {graph.edge_index.shape}\")\n",
    "        if hasattr(graph, \"edge_attr\"):\n",
    "            print(f\"  Edge features:         {graph.edge_attr.shape}\")\n",
    "        print(f\"  Nodes: {graph.x.shape[0]}, Edges: {graph.edge_index.shape[1]}\")\n",
    "        print()\n",
    "\n",
    "print(f\"✅ Successfully created {len(graph_data)} graph objects for GNN training!\")"
   ]
  },
  {
   "cell_type": "raw",
   "metadata": {
    "vscode": {
     "languageId": "raw"
    }
   },
   "source": [
    "## 4. ✨ NEW: Interactive 2D Molecular Visualizations \n",
    "\n",
    "Instead of static images, we now create interactive 2D plots with theme support, smart text contrast, and hover information!\n"
   ]
  },
  {
   "cell_type": "code",
   "execution_count": null,
   "metadata": {},
   "outputs": [],
   "source": [
    "# Create interactive 2D molecular visualizations!\n",
    "molecules_to_draw = [\"ethanol\", \"benzene\", \"caffeine\", \"aspirin\"]\n",
    "\n",
    "print(\"🎨 Creating Interactive 2D Molecular Plots with Theme Support...\\n\")\n",
    "\n",
    "for name in molecules_to_draw:\n",
    "    mol = parsed_molecules[name]\n",
    "    if mol is not None:\n",
    "        print(f\"✨ Creating interactive plot for {name.title()}...\")\n",
    "\n",
    "        # NEW: Interactive plotly figure instead of static image!\n",
    "        fig = draw_molecule_2d(mol, size=(450, 350))\n",
    "\n",
    "        # Add custom title with molecule info\n",
    "        fig.update_layout(\n",
    "            title=f\"{name.title()} - {sample_molecules[name]}<br><sub>{mol.GetNumAtoms()} atoms, {mol.GetNumBonds()} bonds</sub>\"\n",
    "        )\n",
    "\n",
    "        fig.show()\n",
    "\n",
    "        print(f\"   ✅ Atom count: {mol.GetNumAtoms()}\")\n",
    "        print(\n",
    "            f\"   ✅ Features: Interactive hover, element symbols, smart text contrast\"\n",
    "        )\n",
    "        print()\n",
    "\n",
    "print(\"🎉 NEW Interactive 2D Features:\")\n",
    "print(\"   ✓ Interactive plots instead of static images\")\n",
    "print(\"   ✓ Theme-matched backgrounds and bond colors\")\n",
    "print(\"   ✓ Smart text contrast - readable on all atom colors\")\n",
    "print(\"   ✓ CPK element coloring with element symbols (C, N, O, etc.)\")\n",
    "print(\"   ✓ Hover information showing element type and coordinates\")\n",
    "print(\"   ✓ Different bond styles for single/double/triple bonds\")\n",
    "print(\"   ✓ Can save as interactive HTML files!\")"
   ]
  },
  {
   "cell_type": "raw",
   "metadata": {
    "vscode": {
     "languageId": "raw"
    }
   },
   "source": [
    "## 5. Interactive 3D Molecular Visualizations \n",
    "\n",
    "Now let's create awesome interactive 3D visualizations that you can rotate and explore!\n"
   ]
  },
  {
   "cell_type": "code",
   "execution_count": null,
   "metadata": {},
   "outputs": [],
   "source": [
    "# Create beautiful 3D molecular visualizations with smart features!\n",
    "print(\"🌐 Creating Beautiful 3D Molecular Visualizations...\\n\")\n",
    "\n",
    "# Let's visualize caffeine in 3D - it's a complex molecule!\n",
    "caffeine_mol = parsed_molecules[\"caffeine\"]\n",
    "if caffeine_mol is not None:\n",
    "    print(\"☕ Creating 3D visualization of Caffeine...\")\n",
    "    # Now with smart title and auto-zoom based on molecule size!\n",
    "    fig_3d = create_3d_conformer_plot(\n",
    "        caffeine_mol, molecule_name=\"Caffeine\", smiles=\"CN1C=NC2=C1C(=O)N(C(=O)N2C)C\"\n",
    "    )\n",
    "    fig_3d.show()\n",
    "\n",
    "    print(\"✅ 3D caffeine visualization complete!\")\n",
    "    print(\"🎨 NEW smart features you get automatically:\")\n",
    "    print(\"   ✓ Meaningful title with molecule name\")\n",
    "    print(\"   ✓ Smart zoom - starts at perfect distance for molecule size\")\n",
    "    print(\"   ✓ Better text contrast - black text for visibility on all atoms\")\n",
    "    print(\"   ✓ Clean toolbar with only essential 3D controls\")\n",
    "    print(\"   ✓ Element symbols (C, N, O) clearly visible\")\n",
    "    print(\"   ✓ Professional CPK coloring and Quantifyr dark theme\")\n",
    "    print(\"💡 Much easier to use from the start - no manual zooming needed!\")\n",
    "else:\n",
    "    print(\"❌ Could not create 3D visualization - caffeine molecule not available\")"
   ]
  },
  {
   "cell_type": "raw",
   "metadata": {
    "vscode": {
     "languageId": "raw"
    }
   },
   "source": [
    "## 6. Molecular Property Analysis & Interactive Plots\n",
    "\n",
    "Let's analyze molecular properties with beautiful interactive plots and discover patterns in our dataset.\n"
   ]
  },
  {
   "cell_type": "code",
   "execution_count": null,
   "metadata": {},
   "outputs": [],
   "source": [
    "# Create molecular property analysis\n",
    "print(\"📊 Analyzing Molecular Properties...\\n\")\n",
    "\n",
    "# Create a larger dataset for better analysis\n",
    "extended_smiles = [\n",
    "    \"CCO\",\n",
    "    \"CC\",\n",
    "    \"CCC\",\n",
    "    \"CCCC\",\n",
    "    \"CCCCC\",  # Alkanes & ethanol\n",
    "    \"c1ccccc1\",\n",
    "    \"c1ccc(C)cc1\",\n",
    "    \"c1ccc(O)cc1\",  # Aromatics\n",
    "    \"CN1C=NC2=C1C(=O)N(C(=O)N2C)C\",  # Caffeine\n",
    "    \"CC(=O)OC1=CC=CC=C1C(=O)O\",  # Aspirin\n",
    "    \"NCCc1ccc(O)c(O)c1\",  # Dopamine\n",
    "    \"CC(C)C(=O)O\",  # Isobutyric acid\n",
    "    \"CCCCCCCCCCCCCCCC(=O)O\",  # Palmitic acid\n",
    "]\n",
    "\n",
    "# Create comprehensive molecular dataframe\n",
    "print(\"🔬 Processing extended molecule dataset...\")\n",
    "df_analysis = create_molecular_dataframe(extended_smiles)\n",
    "print(f\"✅ Processed {len(df_analysis)} molecules\")\n",
    "print(f\"✅ {df_analysis['valid'].sum()} valid molecules for analysis\")\n",
    "\n",
    "# Show basic statistics\n",
    "print(\"\\n📈 Basic Property Statistics:\")\n",
    "numeric_cols = [\"molecular_weight\", \"logp\", \"tpsa\", \"num_rotatable_bonds\", \"num_rings\"]\n",
    "print(df_analysis[numeric_cols].describe().round(2))"
   ]
  },
  {
   "cell_type": "code",
   "execution_count": null,
   "metadata": {},
   "outputs": [],
   "source": [
    "# Create interactive property scatter matrix\n",
    "print(\"🎨 Creating Interactive Property Scatter Matrix...\")\n",
    "\n",
    "properties_to_plot = [\"molecular_weight\", \"logp\", \"tpsa\", \"num_rings\"]\n",
    "fig_scatter = plot_molecular_properties(df_analysis, properties_to_plot)\n",
    "fig_scatter.update_layout(\n",
    "    title=\"Interactive Molecular Property Relationships\", height=700, width=900\n",
    ")\n",
    "fig_scatter.show()\n",
    "\n",
    "print(\"✅ Interactive scatter matrix complete!\")\n",
    "print(\"💡 Hover over points to see SMILES strings!\")"
   ]
  },
  {
   "cell_type": "code",
   "execution_count": null,
   "metadata": {},
   "outputs": [],
   "source": [
    "# Analyze molecular weight distribution\n",
    "print(\"📊 Analyzing Molecular Weight Distribution...\")\n",
    "\n",
    "fig_dist = plot_property_distribution(df_analysis, \"molecular_weight\")\n",
    "fig_dist.update_layout(\n",
    "    title=\"Molecular Weight Distribution Analysis\", height=600, width=800\n",
    ")\n",
    "fig_dist.show()\n",
    "\n",
    "print(\"✅ Distribution analysis complete!\")\n",
    "\n",
    "# Show some interesting insights\n",
    "print(\"\\n🔍 Interesting Insights:\")\n",
    "heavy_molecules = df_analysis[df_analysis[\"molecular_weight\"] > 200]\n",
    "light_molecules = df_analysis[df_analysis[\"molecular_weight\"] < 50]\n",
    "\n",
    "print(f\"• Heaviest molecules (>200 Da): {len(heavy_molecules)}\")\n",
    "if len(heavy_molecules) > 0:\n",
    "    print(f\"  - Examples: {heavy_molecules['smiles'].tolist()}\")\n",
    "\n",
    "print(f\"• Lightest molecules (<50 Da): {len(light_molecules)}\")\n",
    "if len(light_molecules) > 0:\n",
    "    print(f\"  - Examples: {light_molecules['smiles'].tolist()}\")"
   ]
  },
  {
   "cell_type": "raw",
   "metadata": {
    "vscode": {
     "languageId": "raw"
    }
   },
   "source": [
    "## 7. Graph Network Visualization\n",
    "\n",
    "Visualize molecular graphs as networks to understand molecular topology.\n"
   ]
  },
  {
   "cell_type": "code",
   "execution_count": null,
   "metadata": {},
   "outputs": [],
   "source": [
    "# Create beautiful molecular network visualizations with smart titles and visibility!\n",
    "print(\"🕸️  Creating Molecular Network Visualizations with Smart Features...\")\n",
    "\n",
    "# Convert some interesting molecules to graphs\n",
    "network_smiles = [\n",
    "    \"CCO\",\n",
    "    \"c1ccccc1\",\n",
    "    \"CN1C=NC2=C1C(=O)N(C(=O)N2C)C\",\n",
    "    \"CC(=O)OC1=CC=CC=C1C(=O)O\",\n",
    "]\n",
    "network_names = [\"Ethanol\", \"Benzene\", \"Caffeine\", \"Aspirin\"]\n",
    "network_graphs, _ = load_molecule_dataset(network_smiles)\n",
    "\n",
    "print(f\"✅ Created {len(network_graphs)} molecular graphs\")\n",
    "\n",
    "# Visualize with meaningful titles and enhanced readability\n",
    "fig_network = plot_molecular_network(\n",
    "    network_graphs,\n",
    "    max_molecules=4,\n",
    "    molecule_names=network_names,  # NEW: Meaningful titles!\n",
    "    smiles_list=network_smiles,\n",
    ")\n",
    "fig_network.show()\n",
    "\n",
    "print(\"✅ Molecular network visualization complete!\")\n",
    "print(\"🎨 NEW smart features you get automatically:\")\n",
    "print(\"   ✓ Meaningful titles - 'Ethanol', 'Benzene' instead of 'Molecule 1, 2, 3...'\")\n",
    "print(\"   ✓ Smart text contrast - dark text on light atoms, light text on dark atoms\")\n",
    "print(\"   ✓ Larger atoms (22px) with better element symbol visibility\")\n",
    "print(\"   ✓ Clean toolbar with simplified controls\")\n",
    "print(\"   ✓ Professional CPK coloring with theme-adaptive bonds\")\n",
    "print(\"   ✓ 3-column layout for optimal readability\")\n",
    "print(\"   ✓ Enhanced hover information with molecule context\")\n",
    "print(\"💡 Each atom clearly shows its element symbol - C, N, O, etc.!\")\n",
    "print(\"💡 Text is readable on ALL atom colors - no more guessing what element it is!\")"
   ]
  }
 ],
 "metadata": {
  "kernelspec": {
   "display_name": ".venv",
   "language": "python",
   "name": "python3"
  },
  "language_info": {
   "codemirror_mode": {
    "name": "ipython",
    "version": 3
   },
   "file_extension": ".py",
   "mimetype": "text/x-python",
   "name": "python",
   "nbconvert_exporter": "python",
   "pygments_lexer": "ipython3",
   "version": "3.12.10"
  }
 },
 "nbformat": 4,
 "nbformat_minor": 2
}
