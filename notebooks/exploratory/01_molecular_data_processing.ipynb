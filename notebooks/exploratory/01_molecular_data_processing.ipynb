{
 "cells": [
  {
   "cell_type": "raw",
   "metadata": {
    "vscode": {
     "languageId": "raw"
    }
   },
   "source": [
    "# Molecular Data Processing - Stage 1 Implementation\n",
    "\n",
    "This notebook demonstrates the implementation of **Stage 1: Data Processing** for Quantifyr, covering:\n",
    "\n",
    "1. **SMILES Parsing** with RDKit\n",
    "2. **Feature Extraction** (atomic and molecular properties)  \n",
    "3. **Graph Construction** for GNNs\n",
    "4. **Interactive 2D/3D Visualizations**\n",
    "5. **Property Analysis** and distributions\n",
    "\n",
    "## Goals\n",
    "- Parse molecules from SMILES strings\n",
    "- Extract meaningful features for ML models\n",
    "- Convert to graph representations \n",
    "- Create beautiful visualizations\n",
    "- Analyze molecular properties\n",
    "\n",
    "Let's start by importing our newly implemented modules!\n"
   ]
  },
  {
   "cell_type": "code",
   "execution_count": null,
   "metadata": {},
   "outputs": [],
   "source": [
    "# Setup and imports\n",
    "import sys\n",
    "import os\n",
    "\n",
    "sys.path.append(\"../src\")\n",
    "\n",
    "import numpy as np\n",
    "import pandas as pd\n",
    "import matplotlib.pyplot as plt\n",
    "import plotly.graph_objects as go\n",
    "import plotly.express as px\n",
    "from rdkit import Chem\n",
    "from rdkit.Chem import Draw\n",
    "import warnings\n",
    "\n",
    "warnings.filterwarnings(\"ignore\")\n",
    "\n",
    "# Import our Quantifyr modules\n",
    "from data_utils import (\n",
    "    parse_smiles,\n",
    "    extract_atom_features,\n",
    "    extract_bond_features,\n",
    "    mol_to_graph,\n",
    "    compute_molecular_descriptors,\n",
    "    load_molecule_dataset,\n",
    "    create_molecular_dataframe,\n",
    "    MoleculeConfig,\n",
    ")\n",
    "\n",
    "from viz import (\n",
    "    draw_molecule_2d,\n",
    "    plot_molecular_properties,\n",
    "    plot_property_distribution,\n",
    "    plot_molecular_network,\n",
    "    create_3d_conformer_plot,\n",
    "    create_molecular_dashboard,\n",
    ")\n",
    "\n",
    "print(\"✅ Successfully imported Quantifyr modules!\")\n",
    "print(\"🧪 Ready for molecular data processing experiments\")"
   ]
  },
  {
   "cell_type": "raw",
   "metadata": {
    "vscode": {
     "languageId": "raw"
    }
   },
   "source": [
    "## 1. SMILES Parsing & Molecule Creation\n",
    "\n",
    "Let's start with parsing SMILES strings into RDKit molecule objects. We'll test with a variety of interesting molecules.\n"
   ]
  },
  {
   "cell_type": "code",
   "execution_count": null,
   "metadata": {},
   "outputs": [],
   "source": [
    "# Define a diverse set of molecules for testing\n",
    "sample_molecules = {\n",
    "    \"ethanol\": \"CCO\",\n",
    "    \"benzene\": \"c1ccccc1\",\n",
    "    \"caffeine\": \"CN1C=NC2=C1C(=O)N(C(=O)N2C)C\",\n",
    "    \"aspirin\": \"CC(=O)OC1=CC=CC=C1C(=O)O\",\n",
    "    \"water\": \"O\",\n",
    "    \"methane\": \"C\",\n",
    "    \"glucose\": \"C([C@@H]1[C@H]([C@@H]([C@H]([C@H](O1)O)O)O)O)O\",\n",
    "    \"dopamine\": \"NCCc1ccc(O)c(O)c1\",\n",
    "    \"invalid\": \"this_is_not_a_smiles\",  # Test invalid SMILES\n",
    "}\n",
    "\n",
    "print(\"🧪 Testing SMILES parsing with diverse molecules:\\n\")\n",
    "\n",
    "parsed_molecules = {}\n",
    "for name, smiles in sample_molecules.items():\n",
    "    mol = parse_smiles(smiles)\n",
    "    parsed_molecules[name] = mol\n",
    "\n",
    "    if mol is not None:\n",
    "        print(\n",
    "            f\"✅ {name:12} | {smiles:20} → {mol.GetNumAtoms():2d} atoms, {mol.GetNumBonds():2d} bonds\"\n",
    "        )\n",
    "    else:\n",
    "        print(f\"❌ {name:12} | {smiles:20} → FAILED TO PARSE\")\n",
    "\n",
    "print(\n",
    "    f\"\\n📊 Successfully parsed: {sum(1 for mol in parsed_molecules.values() if mol is not None)}/{len(sample_molecules)} molecules\"\n",
    ")"
   ]
  },
  {
   "cell_type": "raw",
   "metadata": {
    "vscode": {
     "languageId": "raw"
    }
   },
   "source": [
    "## 2. Feature Extraction\n",
    "\n",
    "Now let's extract atomic and molecular features that can be used for machine learning models.\n"
   ]
  },
  {
   "cell_type": "code",
   "execution_count": null,
   "metadata": {},
   "outputs": [],
   "source": [
    "# Extract features for a few interesting molecules\n",
    "test_molecules = [\"ethanol\", \"benzene\", \"caffeine\"]\n",
    "\n",
    "print(\"🔬 Atomic Feature Extraction:\\n\")\n",
    "print(\"Features: [Atomic#, Degree, Charge, Hybridization, Aromatic, H_count]\")\n",
    "print(\"-\" * 70)\n",
    "\n",
    "for name in test_molecules:\n",
    "    mol = parsed_molecules[name]\n",
    "    if mol is not None:\n",
    "        atom_features = extract_atom_features(mol)\n",
    "        bond_features = extract_bond_features(mol)\n",
    "\n",
    "        print(f\"\\n{name.upper()}:\")\n",
    "        print(f\"  Atomic features shape: {atom_features.shape}\")\n",
    "        print(f\"  Bond features shape:   {bond_features.shape}\")\n",
    "\n",
    "        # Show first few atomic features\n",
    "        print(f\"  First 3 atoms: \")\n",
    "        for i in range(min(3, len(atom_features))):\n",
    "            features = atom_features[i]\n",
    "            print(f\"    Atom {i+1}: {features}\")\n",
    "\n",
    "print(\"\\n\" + \"=\" * 70)"
   ]
  },
  {
   "cell_type": "code",
   "execution_count": null,
   "metadata": {},
   "outputs": [],
   "source": [
    "# Compute molecular descriptors for property prediction\n",
    "print(\"📊 Molecular Descriptors for Property Prediction:\\n\")\n",
    "\n",
    "descriptor_data = []\n",
    "for name, mol in parsed_molecules.items():\n",
    "    if mol is not None:\n",
    "        descriptors = compute_molecular_descriptors(mol)\n",
    "        descriptors[\"name\"] = name\n",
    "        descriptors[\"smiles\"] = sample_molecules[name]\n",
    "        descriptor_data.append(descriptors)\n",
    "\n",
    "# Create DataFrame\n",
    "df_descriptors = pd.DataFrame(descriptor_data)\n",
    "print(f\"Computed descriptors for {len(df_descriptors)} molecules\")\n",
    "print(\"\\nDescriptor columns:\", list(df_descriptors.columns))\n",
    "print(\"\\nSample data:\")\n",
    "print(df_descriptors[[\"name\", \"molecular_weight\", \"logp\", \"tpsa\", \"num_rings\"]].head())"
   ]
  },
  {
   "cell_type": "raw",
   "metadata": {
    "vscode": {
     "languageId": "raw"
    }
   },
   "source": [
    "## 3. Graph Construction for GNN Models\n",
    "\n",
    "Convert molecules to PyTorch Geometric Data objects for graph neural networks.\n"
   ]
  },
  {
   "cell_type": "code",
   "execution_count": null,
   "metadata": {},
   "outputs": [],
   "source": [
    "# Convert molecules to graph representations\n",
    "print(\"🕸️  Converting Molecules to Graph Objects:\\n\")\n",
    "\n",
    "graph_data = []\n",
    "for name in [\"ethanol\", \"benzene\", \"caffeine\"]:\n",
    "    mol = parsed_molecules[name]\n",
    "    if mol is not None:\n",
    "        graph = mol_to_graph(mol, include_edge_features=True)\n",
    "        graph_data.append(graph)\n",
    "\n",
    "        print(f\"{name.upper()}:\")\n",
    "        print(f\"  Node features (x):     {graph.x.shape}\")\n",
    "        print(f\"  Edge indices:          {graph.edge_index.shape}\")\n",
    "        if hasattr(graph, \"edge_attr\"):\n",
    "            print(f\"  Edge features:         {graph.edge_attr.shape}\")\n",
    "        print(f\"  Nodes: {graph.x.shape[0]}, Edges: {graph.edge_index.shape[1]}\")\n",
    "        print()\n",
    "\n",
    "print(f\"✅ Successfully created {len(graph_data)} graph objects for GNN training!\")"
   ]
  },
  {
   "cell_type": "raw",
   "metadata": {
    "vscode": {
     "languageId": "raw"
    }
   },
   "source": [
    "## 4. Cool 2D Molecular Visualizations\n",
    "\n",
    "Let's create beautiful 2D molecular structure drawings using our visualization functions.\n"
   ]
  },
  {
   "cell_type": "code",
   "execution_count": null,
   "metadata": {},
   "outputs": [],
   "source": [
    "# Create 2D molecular drawings\n",
    "import matplotlib.pyplot as plt\n",
    "\n",
    "molecules_to_draw = [\"ethanol\", \"benzene\", \"caffeine\", \"aspirin\"]\n",
    "fig, axes = plt.subplots(2, 2, figsize=(12, 10))\n",
    "axes = axes.flatten()\n",
    "\n",
    "print(\"🎨 Creating 2D molecular structure drawings...\\n\")\n",
    "\n",
    "for i, name in enumerate(molecules_to_draw):\n",
    "    mol = parsed_molecules[name]\n",
    "    if mol is not None:\n",
    "        # Draw molecule\n",
    "        img = draw_molecule_2d(mol, size=(400, 400))\n",
    "\n",
    "        # Display in subplot\n",
    "        axes[i].imshow(img)\n",
    "        axes[i].set_title(\n",
    "            f\"{name.title()}\\n{sample_molecules[name]}\", fontsize=12, pad=20\n",
    "        )\n",
    "        axes[i].axis(\"off\")\n",
    "\n",
    "        print(f\"✅ Drew {name} ({mol.GetNumAtoms()} atoms)\")\n",
    "\n",
    "plt.tight_layout()\n",
    "plt.suptitle(\"2D Molecular Structures\", fontsize=16, y=0.98)\n",
    "plt.show()\n",
    "\n",
    "print(\"\\n🎉 Beautiful 2D molecular visualizations complete!\")"
   ]
  },
  {
   "cell_type": "raw",
   "metadata": {
    "vscode": {
     "languageId": "raw"
    }
   },
   "source": [
    "## 5. Interactive 3D Molecular Visualizations \n",
    "\n",
    "Now let's create awesome interactive 3D visualizations that you can rotate and explore!\n"
   ]
  },
  {
   "cell_type": "code",
   "execution_count": null,
   "metadata": {},
   "outputs": [],
   "source": [
    "# Create interactive 3D molecular visualizations\n",
    "print(\"🌐 Creating Interactive 3D Molecular Visualizations...\\n\")\n",
    "\n",
    "# Let's visualize caffeine in 3D - it's a complex molecule!\n",
    "caffeine_mol = parsed_molecules[\"caffeine\"]\n",
    "if caffeine_mol is not None:\n",
    "    print(\"☕ Creating 3D visualization of Caffeine...\")\n",
    "    fig_3d = create_3d_conformer_plot(caffeine_mol)\n",
    "    fig_3d.update_layout(\n",
    "        title=\"Interactive 3D Structure of Caffeine (C₈H₁₀N₄O₂)\", width=800, height=600\n",
    "    )\n",
    "    fig_3d.show()\n",
    "\n",
    "    print(\"✅ 3D caffeine visualization complete!\")\n",
    "    print(\"💡 You can rotate, zoom, and pan the 3D structure above!\")\n",
    "else:\n",
    "    print(\"❌ Could not create 3D visualization - caffeine molecule not available\")"
   ]
  },
  {
   "cell_type": "raw",
   "metadata": {
    "vscode": {
     "languageId": "raw"
    }
   },
   "source": [
    "## 6. Molecular Property Analysis & Interactive Plots\n",
    "\n",
    "Let's analyze molecular properties with beautiful interactive plots and discover patterns in our dataset.\n"
   ]
  },
  {
   "cell_type": "code",
   "execution_count": null,
   "metadata": {},
   "outputs": [],
   "source": [
    "# Create molecular property analysis\n",
    "print(\"📊 Analyzing Molecular Properties...\\n\")\n",
    "\n",
    "# Create a larger dataset for better analysis\n",
    "extended_smiles = [\n",
    "    \"CCO\",\n",
    "    \"CC\",\n",
    "    \"CCC\",\n",
    "    \"CCCC\",\n",
    "    \"CCCCC\",  # Alkanes & ethanol\n",
    "    \"c1ccccc1\",\n",
    "    \"c1ccc(C)cc1\",\n",
    "    \"c1ccc(O)cc1\",  # Aromatics\n",
    "    \"CN1C=NC2=C1C(=O)N(C(=O)N2C)C\",  # Caffeine\n",
    "    \"CC(=O)OC1=CC=CC=C1C(=O)O\",  # Aspirin\n",
    "    \"NCCc1ccc(O)c(O)c1\",  # Dopamine\n",
    "    \"CC(C)C(=O)O\",  # Isobutyric acid\n",
    "    \"CCCCCCCCCCCCCCCC(=O)O\",  # Palmitic acid\n",
    "]\n",
    "\n",
    "# Create comprehensive molecular dataframe\n",
    "print(\"🔬 Processing extended molecule dataset...\")\n",
    "df_analysis = create_molecular_dataframe(extended_smiles)\n",
    "print(f\"✅ Processed {len(df_analysis)} molecules\")\n",
    "print(f\"✅ {df_analysis['valid'].sum()} valid molecules for analysis\")\n",
    "\n",
    "# Show basic statistics\n",
    "print(\"\\n📈 Basic Property Statistics:\")\n",
    "numeric_cols = [\"molecular_weight\", \"logp\", \"tpsa\", \"num_rotatable_bonds\", \"num_rings\"]\n",
    "print(df_analysis[numeric_cols].describe().round(2))"
   ]
  },
  {
   "cell_type": "code",
   "execution_count": null,
   "metadata": {},
   "outputs": [],
   "source": [
    "# Create interactive property scatter matrix\n",
    "print(\"🎨 Creating Interactive Property Scatter Matrix...\")\n",
    "\n",
    "properties_to_plot = [\"molecular_weight\", \"logp\", \"tpsa\", \"num_rings\"]\n",
    "fig_scatter = plot_molecular_properties(df_analysis, properties_to_plot)\n",
    "fig_scatter.update_layout(\n",
    "    title=\"Interactive Molecular Property Relationships\", height=700, width=900\n",
    ")\n",
    "fig_scatter.show()\n",
    "\n",
    "print(\"✅ Interactive scatter matrix complete!\")\n",
    "print(\"💡 Hover over points to see SMILES strings!\")"
   ]
  },
  {
   "cell_type": "code",
   "execution_count": null,
   "metadata": {},
   "outputs": [],
   "source": [
    "# Analyze molecular weight distribution\n",
    "print(\"📊 Analyzing Molecular Weight Distribution...\")\n",
    "\n",
    "fig_dist = plot_property_distribution(df_analysis, \"molecular_weight\")\n",
    "fig_dist.update_layout(\n",
    "    title=\"Molecular Weight Distribution Analysis\", height=600, width=800\n",
    ")\n",
    "fig_dist.show()\n",
    "\n",
    "print(\"✅ Distribution analysis complete!\")\n",
    "\n",
    "# Show some interesting insights\n",
    "print(\"\\n🔍 Interesting Insights:\")\n",
    "heavy_molecules = df_analysis[df_analysis[\"molecular_weight\"] > 200]\n",
    "light_molecules = df_analysis[df_analysis[\"molecular_weight\"] < 50]\n",
    "\n",
    "print(f\"• Heaviest molecules (>200 Da): {len(heavy_molecules)}\")\n",
    "if len(heavy_molecules) > 0:\n",
    "    print(f\"  - Examples: {heavy_molecules['smiles'].tolist()}\")\n",
    "\n",
    "print(f\"• Lightest molecules (<50 Da): {len(light_molecules)}\")\n",
    "if len(light_molecules) > 0:\n",
    "    print(f\"  - Examples: {light_molecules['smiles'].tolist()}\")"
   ]
  },
  {
   "cell_type": "raw",
   "metadata": {
    "vscode": {
     "languageId": "raw"
    }
   },
   "source": [
    "## 7. Graph Network Visualization\n",
    "\n",
    "Visualize molecular graphs as networks to understand molecular topology.\n"
   ]
  },
  {
   "cell_type": "code",
   "execution_count": null,
   "metadata": {},
   "outputs": [],
   "source": [
    "# Create molecular network visualizations\n",
    "print(\"🕸️  Creating Molecular Network Visualizations...\")\n",
    "\n",
    "# Convert some interesting molecules to graphs\n",
    "network_smiles = [\n",
    "    \"CCO\",\n",
    "    \"c1ccccc1\",\n",
    "    \"CN1C=NC2=C1C(=O)N(C(=O)N2C)C\",\n",
    "    \"CC(=O)OC1=CC=CC=C1C(=O)O\",\n",
    "]\n",
    "network_graphs, _ = load_molecule_dataset(network_smiles)\n",
    "\n",
    "print(f\"✅ Created {len(network_graphs)} molecular graphs\")\n",
    "\n",
    "# Visualize as networks\n",
    "fig_network = plot_molecular_network(network_graphs, max_molecules=4)\n",
    "fig_network.update_layout(\n",
    "    title=\"Molecular Graph Networks - Atoms as Nodes, Bonds as Edges\",\n",
    "    height=800,\n",
    "    width=1200,\n",
    ")\n",
    "fig_network.show()\n",
    "\n",
    "print(\"✅ Molecular network visualization complete!\")\n",
    "print(\"💡 Each node represents an atom, colored by atomic number\")\n",
    "print(\"💡 Each edge represents a chemical bond\")"
   ]
  },
  {
   "cell_type": "raw",
   "metadata": {
    "vscode": {
     "languageId": "raw"
    }
   },
   "source": [
    "## 8. Complete Dashboard Demo\n",
    "\n",
    "Let's create a comprehensive molecular dashboard with all our visualizations!\n"
   ]
  },
  {
   "cell_type": "code",
   "execution_count": null,
   "metadata": {},
   "outputs": [],
   "source": [
    "# Create comprehensive molecular dashboard\n",
    "print(\"🚀 Creating Comprehensive Molecular Dashboard...\\n\")\n",
    "\n",
    "# Prepare molecules for dashboard\n",
    "dashboard_molecules = [\n",
    "    parsed_molecules[name]\n",
    "    for name in parsed_molecules.keys()\n",
    "    if parsed_molecules[name] is not None\n",
    "]\n",
    "\n",
    "# Create dashboard\n",
    "dashboard = create_molecular_dashboard(df_analysis, dashboard_molecules)\n",
    "\n",
    "print(f\"✅ Dashboard created with {len(dashboard)} visualizations:\")\n",
    "for name in dashboard.keys():\n",
    "    print(f\"  📊 {name}\")\n",
    "\n",
    "print(\"\\n🎨 Displaying dashboard components...\")\n",
    "\n",
    "# Display each component\n",
    "for name, fig in dashboard.items():\n",
    "    print(f\"\\n--- {name.upper().replace('_', ' ')} ---\")\n",
    "    fig.update_layout(width=900, height=500)\n",
    "    fig.show()\n",
    "\n",
    "print(\"\\n🎉 Complete molecular dashboard demonstration finished!\")\n",
    "print(\"💡 This shows the power of our modular Quantifyr implementation!\")"
   ]
  }
 ],
 "metadata": {
  "language_info": {
   "name": "python"
  }
 },
 "nbformat": 4,
 "nbformat_minor": 2
}
